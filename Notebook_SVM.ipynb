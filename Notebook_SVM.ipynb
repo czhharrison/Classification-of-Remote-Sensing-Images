{
 "cells": [
  {
   "cell_type": "markdown",
   "id": "4e779853",
   "metadata": {},
   "source": [
    "# Aerial Scene Classification using SIFT + LBP + SVM"
   ]
  },
  {
   "cell_type": "markdown",
   "id": "c4f89206",
   "metadata": {},
   "source": [
    "## 1. Import Libraries and Configuration"
   ]
  },
  {
   "cell_type": "code",
   "execution_count": null,
   "id": "a0e273d7",
   "metadata": {},
   "outputs": [],
   "source": [
    "# Import required libraries\n",
    "import os\n",
    "import cv2\n",
    "import numpy as np\n",
    "from tqdm import tqdm\n",
    "from sklearn.decomposition import PCA\n",
    "from sklearn.model_selection import train_test_split\n",
    "from sklearn.svm import SVC\n",
    "from sklearn.preprocessing import StandardScaler\n",
    "from sklearn.metrics import classification_report, confusion_matrix, accuracy_score\n",
    "import matplotlib.pyplot as plt\n",
    "from sklearn.metrics import precision_score, recall_score, f1_score, accuracy_score, classification_report, confusion_matrix\n",
    "import seaborn as sns\n",
    "\n",
    "# Configuration\n",
    "data_dir = './Aerial_Landscapes'\n",
    "img_size = (256, 256)\n",
    "pca_dimention = 64\n",
    "svm_C = 10\n",
    "svm_kernel = 'rbf'\n",
    "test_size = 0.2\n",
    "random_seed = 666"
   ]
  },
  {
   "cell_type": "markdown",
   "id": "ea8c27a8",
   "metadata": {},
   "source": [
    "## 2. Load Class Names"
   ]
  },
  {
   "cell_type": "code",
   "execution_count": null,
   "id": "7def3c9c",
   "metadata": {},
   "outputs": [],
   "source": [
    "# Load class names from dataset folder\n",
    "class_names = sorted(os.listdir(data_dir))\n",
    "if '.DS_Store' in class_names:\n",
    "    class_names.remove('.DS_Store')\n",
    "print(\"running program...\")\n",
    "\n",
    "all_descriptors = []\n",
    "image_descriptor_list = [] \n",
    "y_labels = []\n",
    "\n",
    "sift = cv2.SIFT_create()\n",
    "\n",
    "for label, class_name in enumerate(class_names):\n",
    "    class_path = os.path.join(data_dir, class_name)\n",
    "    for file in tqdm(os.listdir(class_path), desc=f\"handling with class: {class_name}\"):\n",
    "        img_path = os.path.join(class_path, file)\n",
    "        img = cv2.imread(img_path, cv2.IMREAD_GRAYSCALE)\n",
    "        img = cv2.resize(img, img_size)\n",
    "\n",
    "        # get the SIFT descriptor\n",
    "        keypoints, descriptors = sift.detectAndCompute(img, None)\n",
    "        if descriptors is not None:\n",
    "            all_descriptors.append(descriptors)\n",
    "            image_descriptor_list.append(descriptors)\n",
    "            y_labels.append(label)\n"
   ]
  },
  {
   "cell_type": "markdown",
   "id": "63f78ba8",
   "metadata": {},
   "source": [
    "## 3. Apply PCA for Dimensionality Reduction"
   ]
  },
  {
   "cell_type": "code",
   "execution_count": null,
   "id": "b4f581d6",
   "metadata": {},
   "outputs": [],
   "source": [
    "# Apply PCA to reduce dimensionality of SIFT descriptors\n",
    "\n",
    "all_descriptors_stacked = np.vstack(all_descriptors)\n",
    "\n",
    "pca = PCA(n_components=pca_dimention)\n",
    "pca.fit(all_descriptors_stacked)\n",
    "\n",
    "X_pca_mean = []\n",
    "\n",
    "for descriptors in image_descriptor_list:\n",
    "    descriptors_pca = pca.transform(descriptors)  \n",
    "    desc_mean = np.mean(descriptors_pca, axis=0)  \n",
    "    X_pca_mean.append(desc_mean)\n",
    "\n",
    "\n",
    "X = np.array(X_pca_mean)\n",
    "y = np.array(y_labels)\n"
   ]
  },
  {
   "cell_type": "markdown",
   "id": "ecbfcc33",
   "metadata": {},
   "source": [
    "## 4. Normalize Features and Split Dataset"
   ]
  },
  {
   "cell_type": "code",
   "execution_count": null,
   "id": "df85df63",
   "metadata": {},
   "outputs": [],
   "source": [
    "# Normalize data and split into train/test sets\n",
    "scaler = StandardScaler()\n",
    "X_scaled = scaler.fit_transform(X)\n",
    "\n",
    "# split the data\n",
    "X_train, X_test, y_train, y_test = train_test_split(\n",
    "    X_scaled, y, test_size=0.2, random_state=666, stratify=y)\n"
   ]
  },
  {
   "cell_type": "markdown",
   "id": "1990f9a9",
   "metadata": {},
   "source": [
    "## 5. Train SVM Classifier"
   ]
  },
  {
   "cell_type": "code",
   "execution_count": null,
   "id": "9f622093",
   "metadata": {},
   "outputs": [],
   "source": [
    "# Train an SVM classifier using RBF kernel\n",
    "# training\n",
    "print(\"\\n training SVM model\")\n",
    "clf = SVC(kernel='rbf', C=10, gamma='scale')  \n",
    "clf.fit(X_train, y_train)\n",
    "\n"
   ]
  },
  {
   "cell_type": "markdown",
   "id": "b9829357",
   "metadata": {},
   "source": [
    "## 6. Evaluate Model Performance"
   ]
  },
  {
   "cell_type": "code",
   "execution_count": null,
   "id": "0a01af82",
   "metadata": {},
   "outputs": [],
   "source": [
    "\n",
    "y_pred = clf.predict(X_test)\n",
    "print(classification_report(y_test, y_pred, target_names=class_names))\n",
    "print(\"Model Accuracy: \", accuracy_score(y_test, y_pred))\n",
    "\n",
    "print(\"\\nModel report:\")\n",
    "print(classification_report(y_test, y_pred, target_names=class_names))\n",
    "\n",
    "precision = precision_score(y_test, y_pred, average='macro') \n",
    "recall = recall_score(y_test, y_pred, average='macro')\n",
    "f1 = f1_score(y_test, y_pred, average='macro')\n",
    "acc = accuracy_score(y_test, y_pred)\n",
    "print(f\"Accuracy: {acc:.4f}\")\n",
    "print(f\"Precision : {precision:.4f}\")\n",
    "print(f\"Recall    : {recall:.4f}\")\n",
    "print(f\"F1-score  : {f1:.4f}\")\n",
    "\n"
   ]
  },
  {
   "cell_type": "markdown",
   "id": "5e26bbbe",
   "metadata": {},
   "source": [
    "## 7. Plot Confusion Matrix"
   ]
  },
  {
   "cell_type": "code",
   "execution_count": null,
   "id": "3b1b2494",
   "metadata": {},
   "outputs": [],
   "source": [
    "\n",
    "model_confusion_matrix = confusion_matrix(y_test, y_pred)\n",
    "\n",
    "plt.figure(figsize=(10, 8))\n",
    "sns.heatmap(model_confusion_matrix, annot=True, fmt='d', cmap='Blues', xticklabels=class_names, yticklabels=class_names)\n",
    "plt.xlabel('Predicted Label')\n",
    "plt.ylabel('Reality Label')\n",
    "plt.title('Confusion Matrix')\n",
    "plt.show()"
   ]
  },
  {
   "cell_type": "code",
   "execution_count": null,
   "id": "63b9e6ab",
   "metadata": {},
   "outputs": [],
   "source": [
    "from sklearn.model_selection import learning_curve\n",
    "\n",
    "train_sizes, train_scores, test_scores = learning_curve(\n",
    "    clf, X_pca_mean, y, cv=5, scoring='accuracy', train_sizes=np.linspace(0.01, 1.0, 100)\n",
    ")\n",
    "\n",
    "train_mean = np.mean(train_scores, axis=1)\n",
    "test_mean = np.mean(test_scores, axis=1)\n",
    "\n",
    "plt.plot(train_sizes, train_mean, 'o-', label='training data accuracy')\n",
    "plt.plot(train_sizes, test_mean, 'o-', label='testing data accuracy')\n",
    "plt.xlabel('Amount of training data')\n",
    "plt.ylabel('Accuracy')\n",
    "plt.title('Training Curve')\n",
    "plt.legend()\n",
    "plt.grid()\n",
    "plt.show()\n"
   ]
  }
 ],
 "metadata": {
  "kernelspec": {
   "display_name": "Python 3 (ipykernel)",
   "language": "python",
   "name": "python3"
  },
  "language_info": {
   "codemirror_mode": {
    "name": "ipython",
    "version": 3
   },
   "file_extension": ".py",
   "mimetype": "text/x-python",
   "name": "python",
   "nbconvert_exporter": "python",
   "pygments_lexer": "ipython3",
   "version": "3.9.17"
  }
 },
 "nbformat": 4,
 "nbformat_minor": 5
}
