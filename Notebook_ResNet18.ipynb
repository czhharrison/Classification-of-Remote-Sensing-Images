{
 "cells": [
  {
   "cell_type": "markdown",
   "id": "000dbaa8",
   "metadata": {},
   "source": [
    "# Aerial Scene Classification with ResNet-18\n",
    "Using Transfer Learning in PyTorch"
   ]
  },
  {
   "cell_type": "markdown",
   "id": "64eba337",
   "metadata": {},
   "source": [
    "## 1. Import Required Libraries"
   ]
  },
  {
   "cell_type": "code",
   "execution_count": 1,
   "id": "9d7dbcd2-11c8-42ce-99d9-ff32c0e6f7fa",
   "metadata": {},
   "outputs": [],
   "source": [
    "import os\n",
    "import torch\n",
    "import torch.nn as nn\n",
    "import torch.optim as optim\n",
    "from torchvision import datasets, models, transforms\n",
    "from torch.utils.data import DataLoader, ConcatDataset, Dataset\n",
    "from sklearn.metrics import classification_report, accuracy_score, precision_score, recall_score, f1_score\n",
    "from torchvision.models import resnet18, ResNet18_Weights\n",
    "import pandas as pd\n",
    "from PIL import Image"
   ]
  },
  {
   "cell_type": "markdown",
   "id": "09c7a06d",
   "metadata": {},
   "source": [
    "## 2. Set Device"
   ]
  },
  {
   "cell_type": "code",
   "execution_count": null,
   "id": "704a18a5-4090-4c00-90fc-6ca4cbe29155",
   "metadata": {},
   "outputs": [],
   "source": [
    "device = torch.device(\"cuda\" if torch.cuda.is_available() else \"cpu\")\n",
    "print(\"Using device:\", device)"
   ]
  },
  {
   "cell_type": "markdown",
   "id": "0e3f35fc",
   "metadata": {},
   "source": [
    "## 3. Define Transforms and Load Dataset"
   ]
  },
  {
   "cell_type": "code",
   "execution_count": null,
   "id": "061913b9-5c49-4b8b-a56f-adda4bdd7959",
   "metadata": {},
   "outputs": [],
   "source": [
    "input_size = 224\n",
    "batch_size = 32\n",
    "\n",
    "data_transforms = {\n",
    "    'train': transforms.Compose([\n",
    "        transforms.Resize((input_size, input_size)),\n",
    "        transforms.ToTensor(),\n",
    "        transforms.Normalize([0.485, 0.456, 0.406],\n",
    "                             [0.229, 0.224, 0.225])\n",
    "    ]),\n",
    "    'test': transforms.Compose([\n",
    "        transforms.Resize((input_size, input_size)),\n",
    "        transforms.ToTensor(),\n",
    "        transforms.Normalize([0.485, 0.456, 0.406],\n",
    "                             [0.229, 0.224, 0.225])\n",
    "    ]),\n",
    "}\n",
    "train_dir = r\"D:\\hmzhao\\UNSW\\Courses\\COMP9517\\Group project\\data\\train\"\n",
    "test_dir = r\"D:\\hmzhao\\UNSW\\Courses\\COMP9517\\Group project\\data\\test\"\n",
    "\n",
    "train_dirs = [\n",
    "    os.path.join(train_dir, \"flip\"),\n",
    "    os.path.join(train_dir, \"blur\"),\n",
    "    os.path.join(train_dir, \"brightness\"),\n",
    "    os.path.join(train_dir, \"crop\"),\n",
    "    os.path.join(train_dir, \"rotate\"),\n",
    "    os.path.join(train_dir, \"original\")\n",
    "]\n",
    "\n",
    "train_datasets = [datasets.ImageFolder(train_sub_dir, transform=data_transforms['train']) for train_sub_dir in train_dirs]\n",
    "train_dataset = ConcatDataset(train_datasets)\n",
    "\n",
    "test_dataset = datasets.ImageFolder(test_dir, transform=data_transforms['test'])\n",
    "\n",
    "train_loader = DataLoader(train_dataset, batch_size=batch_size, shuffle=True, num_workers=4)\n",
    "test_loader = DataLoader(test_dataset, batch_size=batch_size, shuffle=False, num_workers=4)\n",
    "\n",
    "print(f\"Train samples: {len(train_dataset)}\")\n",
    "print(f\"Test samples:  {len(test_dataset)}\")\n",
    "print(\"Classes:\", test_dataset.classes)"
   ]
  },
  {
   "cell_type": "markdown",
   "id": "89a5d5a7",
   "metadata": {},
   "source": [
    "## 4. Define and Modify ResNet-18 Model"
   ]
  },
  {
   "cell_type": "code",
   "execution_count": null,
   "id": "9e08bf89-5e75-4655-8588-496e567bf14d",
   "metadata": {},
   "outputs": [],
   "source": [
    "model = resnet18(weights=None)\n",
    "\n",
    "num_ftrs = model.fc.in_features\n",
    "model.fc = nn.Linear(num_ftrs, 15)\n",
    "model = model.to(device)\n",
    "print(\"Using device:\", device)\n"
   ]
  },
  {
   "cell_type": "markdown",
   "id": "02f655f6",
   "metadata": {},
   "source": [
    "## 5. Define Loss Function and Optimizer"
   ]
  },
  {
   "cell_type": "code",
   "execution_count": null,
   "id": "3179cfc7-19f9-49a3-97ee-e64893d824b4",
   "metadata": {},
   "outputs": [],
   "source": [
    "criterion = nn.CrossEntropyLoss()\n",
    "optimizer = optim.Adam(model.parameters(), lr=1e-4)"
   ]
  },
  {
   "cell_type": "markdown",
   "id": "ed316d6e",
   "metadata": {},
   "source": [
    "## 6. Train the Model"
   ]
  },
  {
   "cell_type": "code",
   "execution_count": null,
   "id": "c37bddc3-d15c-4b13-9ccd-26af9b369a7a",
   "metadata": {},
   "outputs": [],
   "source": [
    "max_epochs = 50\n",
    "best_acc = 0.0\n",
    "patience = 3\n",
    "trigger_times = 0\n",
    "model_save_path = r\"D:\\hmzhao\\UNSW\\Courses\\COMP9517\\Group project\\resnet18_model-4.pth\"\n",
    "\n",
    "print(\"Starting training with early stopping...\\n\")\n",
    "\n",
    "for epoch in range(max_epochs):\n",
    "    model.train()\n",
    "    running_loss = 0.0\n",
    "    correct = 0\n",
    "    total = 0\n",
    "\n",
    "    for i, (inputs, labels) in enumerate(train_loader):\n",
    "        inputs, labels = inputs.to(device), labels.to(device)\n",
    "        optimizer.zero_grad()\n",
    "        outputs = model(inputs)\n",
    "        loss = criterion(outputs, labels)\n",
    "        loss.backward()\n",
    "        optimizer.step()\n",
    "\n",
    "        running_loss += loss.item() * inputs.size(0)\n",
    "        _, predicted = outputs.max(1)\n",
    "        correct += predicted.eq(labels).sum().item()\n",
    "        total += labels.size(0)\n",
    "\n",
    "    epoch_loss = running_loss / total\n",
    "    epoch_acc = correct / total\n",
    "    train_loss_history.append(epoch_loss)\n",
    "    train_acc_history.append(epoch_acc)\n",
    "    print(f\"Epoch [{epoch+1}/{max_epochs}] Loss: {epoch_loss:.4f} Acc: {epoch_acc:.4f}\")\n",
    "\n",
    "    model.eval()\n",
    "    val_correct = 0\n",
    "    val_total = 0\n",
    "\n",
    "    with torch.no_grad():\n",
    "        for val_inputs, val_labels in test_loader:\n",
    "            val_inputs, val_labels = val_inputs.to(device), val_labels.to(device)\n",
    "            val_outputs = model(val_inputs)\n",
    "            _, val_predicted = val_outputs.max(1)\n",
    "            val_correct += val_predicted.eq(val_labels).sum().item()\n",
    "            val_total += val_labels.size(0)\n",
    "\n",
    "    val_acc = val_correct / val_total\n",
    "    val_acc_history.append(val_acc)\n",
    "    print(f\"→ Validation Acc: {val_acc:.4f}\")\n",
    "\n",
    "    if val_acc > best_acc:\n",
    "        best_acc = val_acc\n",
    "        trigger_times = 0\n",
    "        torch.save(model.state_dict(), model_save_path)\n",
    "        print(f\"Model improved! Saved to {model_save_path}\")\n",
    "    else:\n",
    "        trigger_times += 1\n",
    "        print(f\"No improvement. Trigger times: {trigger_times}/{patience}\")\n",
    "        if trigger_times >= patience:\n",
    "            print(\"\\n Early stopping triggered.\")\n",
    "            break"
   ]
  },
  {
   "cell_type": "markdown",
   "id": "e739f108",
   "metadata": {},
   "source": [
    "## 7. Visualize Training Curves"
   ]
  },
  {
   "cell_type": "code",
   "execution_count": null,
   "id": "a0807d98-fc2f-4a21-88d4-af61bcc90d5e",
   "metadata": {},
   "outputs": [],
   "source": [
    "plt.figure(figsize=(12, 5))\n",
    "\n",
    "plt.subplot(1, 2, 1)\n",
    "plt.plot(train_loss_history, label='Training Loss')\n",
    "plt.xlabel('Epoch')\n",
    "plt.ylabel('Loss')\n",
    "plt.title('Training Loss Curve')\n",
    "plt.legend()\n",
    "\n",
    "plt.subplot(1, 2, 2)\n",
    "plt.plot(train_acc_history, label='Training Accuracy')\n",
    "plt.plot(val_acc_history, label='Validation Accuracy')\n",
    "plt.xlabel('Epoch')\n",
    "plt.ylabel('Accuracy')\n",
    "plt.title('Accuracy Curve')\n",
    "plt.legend()\n",
    "\n",
    "plt.tight_layout()\n",
    "plt.savefig('training_curves.png')\n",
    "plt.show()"
   ]
  },
  {
   "cell_type": "markdown",
   "id": "58f1d60c",
   "metadata": {},
   "source": [
    "## 8. Evaluate Model on Test Set"
   ]
  },
  {
   "cell_type": "code",
   "execution_count": null,
   "id": "ee601ef4-5f92-4dde-bb4f-f782c7cd9461",
   "metadata": {},
   "outputs": [],
   "source": [
    "model = models.resnet18(weights=None)\n",
    "model.fc = nn.Linear(model.fc.in_features, 15)\n",
    "model.load_state_dict(torch.load(model_save_path))\n",
    "model = model.to(device)\n",
    "model.eval()\n",
    "\n",
    "all_preds = []\n",
    "all_labels = []\n",
    "\n",
    "with torch.no_grad():\n",
    "    for inputs, labels in test_loader:\n",
    "        inputs = inputs.to(device)\n",
    "        outputs = model(inputs)\n",
    "        _, predicted = outputs.max(1)\n",
    "        all_preds.extend(predicted.cpu().numpy())\n",
    "        all_labels.extend(labels.numpy())\n",
    "\n",
    "acc = accuracy_score(all_labels, all_preds)\n",
    "precision = precision_score(all_labels, all_preds, average='macro')\n",
    "recall = recall_score(all_labels, all_preds, average='macro')\n",
    "f1 = f1_score(all_labels, all_preds, average='macro')\n",
    "\n",
    "print(\"\\nEvaluation Metrics:\")\n",
    "print(f\"Accuracy:  {acc:.4f}\")\n",
    "print(f\"Precision: {precision:.4f}\")\n",
    "print(f\"Recall:    {recall:.4f}\")\n",
    "print(f\"F1-score:  {f1:.4f}\")\n",
    "\n",
    "print(\"\\nPer-Class Report:\")\n",
    "print(classification_report(all_labels, all_preds, target_names=test_dataset.classes, digits=4))\n",
    "\n",
    "cm = confusion_matrix(all_labels, all_preds)\n",
    "\n",
    "plt.figure(figsize=(10, 8))\n",
    "sns.heatmap(cm, annot=True, fmt='d', cmap='Blues', \n",
    "            xticklabels=test_dataset.classes, \n",
    "            yticklabels=test_dataset.classes)\n",
    "plt.title('Confusion Matrix')\n",
    "plt.xlabel('Predicted Label')\n",
    "plt.ylabel('True Label')\n",
    "plt.xticks(rotation=45)\n",
    "plt.yticks(rotation=0)\n",
    "plt.tight_layout()\n",
    "plt.savefig('confusion_matrix.png')\n",
    "plt.show()"
   ]
  }
 ],
 "metadata": {
  "kernelspec": {
   "display_name": "Python 3 (ipykernel)",
   "language": "python",
   "name": "python3"
  },
  "language_info": {
   "codemirror_mode": {
    "name": "ipython",
    "version": 3
   },
   "file_extension": ".py",
   "mimetype": "text/x-python",
   "name": "python",
   "nbconvert_exporter": "python",
   "pygments_lexer": "ipython3",
   "version": "3.13.2"
  }
 },
 "nbformat": 4,
 "nbformat_minor": 5
}
